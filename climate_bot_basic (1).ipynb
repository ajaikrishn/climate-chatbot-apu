{
  "nbformat": 4,
  "nbformat_minor": 0,
  "metadata": {
    "colab": {
      "provenance": []
    },
    "kernelspec": {
      "name": "python3",
      "display_name": "Python 3"
    },
    "language_info": {
      "name": "python"
    }
  },
  "cells": [
    {
      "cell_type": "code",
      "execution_count": null,
      "metadata": {
        "id": "pfUnqndYeLDo"
      },
      "outputs": [],
      "source": [
        "!pip install PyPDF2\n",
        "!pip install sentence-transformers\n",
        "!pip install faiss-cpu\n",
        "!pip install transformers\n"
      ]
    },
    {
      "cell_type": "code",
      "source": [
        "from google.colab import files\n",
        "from PyPDF2 import PdfReader\n",
        "\n",
        "# Upload the PDF\n",
        "uploaded = files.upload()\n",
        "pdf_path = list(uploaded.keys())[0]"
      ],
      "metadata": {
        "colab": {
          "base_uri": "https://localhost:8080/",
          "height": 55
        },
        "id": "4mk1AXkMIjWH",
        "outputId": "7521e76d-6b3b-470a-e2c5-5853263d1bbb"
      },
      "execution_count": null,
      "outputs": [
        {
          "output_type": "display_data",
          "data": {
            "text/plain": [
              "<IPython.core.display.HTML object>"
            ],
            "text/html": [
              "\n",
              "     <input type=\"file\" id=\"files-dc9df3f0-70ef-4c6b-b2e7-6e23bbe4647c\" name=\"files[]\" multiple disabled\n",
              "        style=\"border:none\" />\n",
              "     <output id=\"result-dc9df3f0-70ef-4c6b-b2e7-6e23bbe4647c\">\n",
              "      Upload widget is only available when the cell has been executed in the\n",
              "      current browser session. Please rerun this cell to enable.\n",
              "      </output>\n",
              "      <script>// Copyright 2017 Google LLC\n",
              "//\n",
              "// Licensed under the Apache License, Version 2.0 (the \"License\");\n",
              "// you may not use this file except in compliance with the License.\n",
              "// You may obtain a copy of the License at\n",
              "//\n",
              "//      http://www.apache.org/licenses/LICENSE-2.0\n",
              "//\n",
              "// Unless required by applicable law or agreed to in writing, software\n",
              "// distributed under the License is distributed on an \"AS IS\" BASIS,\n",
              "// WITHOUT WARRANTIES OR CONDITIONS OF ANY KIND, either express or implied.\n",
              "// See the License for the specific language governing permissions and\n",
              "// limitations under the License.\n",
              "\n",
              "/**\n",
              " * @fileoverview Helpers for google.colab Python module.\n",
              " */\n",
              "(function(scope) {\n",
              "function span(text, styleAttributes = {}) {\n",
              "  const element = document.createElement('span');\n",
              "  element.textContent = text;\n",
              "  for (const key of Object.keys(styleAttributes)) {\n",
              "    element.style[key] = styleAttributes[key];\n",
              "  }\n",
              "  return element;\n",
              "}\n",
              "\n",
              "// Max number of bytes which will be uploaded at a time.\n",
              "const MAX_PAYLOAD_SIZE = 100 * 1024;\n",
              "\n",
              "function _uploadFiles(inputId, outputId) {\n",
              "  const steps = uploadFilesStep(inputId, outputId);\n",
              "  const outputElement = document.getElementById(outputId);\n",
              "  // Cache steps on the outputElement to make it available for the next call\n",
              "  // to uploadFilesContinue from Python.\n",
              "  outputElement.steps = steps;\n",
              "\n",
              "  return _uploadFilesContinue(outputId);\n",
              "}\n",
              "\n",
              "// This is roughly an async generator (not supported in the browser yet),\n",
              "// where there are multiple asynchronous steps and the Python side is going\n",
              "// to poll for completion of each step.\n",
              "// This uses a Promise to block the python side on completion of each step,\n",
              "// then passes the result of the previous step as the input to the next step.\n",
              "function _uploadFilesContinue(outputId) {\n",
              "  const outputElement = document.getElementById(outputId);\n",
              "  const steps = outputElement.steps;\n",
              "\n",
              "  const next = steps.next(outputElement.lastPromiseValue);\n",
              "  return Promise.resolve(next.value.promise).then((value) => {\n",
              "    // Cache the last promise value to make it available to the next\n",
              "    // step of the generator.\n",
              "    outputElement.lastPromiseValue = value;\n",
              "    return next.value.response;\n",
              "  });\n",
              "}\n",
              "\n",
              "/**\n",
              " * Generator function which is called between each async step of the upload\n",
              " * process.\n",
              " * @param {string} inputId Element ID of the input file picker element.\n",
              " * @param {string} outputId Element ID of the output display.\n",
              " * @return {!Iterable<!Object>} Iterable of next steps.\n",
              " */\n",
              "function* uploadFilesStep(inputId, outputId) {\n",
              "  const inputElement = document.getElementById(inputId);\n",
              "  inputElement.disabled = false;\n",
              "\n",
              "  const outputElement = document.getElementById(outputId);\n",
              "  outputElement.innerHTML = '';\n",
              "\n",
              "  const pickedPromise = new Promise((resolve) => {\n",
              "    inputElement.addEventListener('change', (e) => {\n",
              "      resolve(e.target.files);\n",
              "    });\n",
              "  });\n",
              "\n",
              "  const cancel = document.createElement('button');\n",
              "  inputElement.parentElement.appendChild(cancel);\n",
              "  cancel.textContent = 'Cancel upload';\n",
              "  const cancelPromise = new Promise((resolve) => {\n",
              "    cancel.onclick = () => {\n",
              "      resolve(null);\n",
              "    };\n",
              "  });\n",
              "\n",
              "  // Wait for the user to pick the files.\n",
              "  const files = yield {\n",
              "    promise: Promise.race([pickedPromise, cancelPromise]),\n",
              "    response: {\n",
              "      action: 'starting',\n",
              "    }\n",
              "  };\n",
              "\n",
              "  cancel.remove();\n",
              "\n",
              "  // Disable the input element since further picks are not allowed.\n",
              "  inputElement.disabled = true;\n",
              "\n",
              "  if (!files) {\n",
              "    return {\n",
              "      response: {\n",
              "        action: 'complete',\n",
              "      }\n",
              "    };\n",
              "  }\n",
              "\n",
              "  for (const file of files) {\n",
              "    const li = document.createElement('li');\n",
              "    li.append(span(file.name, {fontWeight: 'bold'}));\n",
              "    li.append(span(\n",
              "        `(${file.type || 'n/a'}) - ${file.size} bytes, ` +\n",
              "        `last modified: ${\n",
              "            file.lastModifiedDate ? file.lastModifiedDate.toLocaleDateString() :\n",
              "                                    'n/a'} - `));\n",
              "    const percent = span('0% done');\n",
              "    li.appendChild(percent);\n",
              "\n",
              "    outputElement.appendChild(li);\n",
              "\n",
              "    const fileDataPromise = new Promise((resolve) => {\n",
              "      const reader = new FileReader();\n",
              "      reader.onload = (e) => {\n",
              "        resolve(e.target.result);\n",
              "      };\n",
              "      reader.readAsArrayBuffer(file);\n",
              "    });\n",
              "    // Wait for the data to be ready.\n",
              "    let fileData = yield {\n",
              "      promise: fileDataPromise,\n",
              "      response: {\n",
              "        action: 'continue',\n",
              "      }\n",
              "    };\n",
              "\n",
              "    // Use a chunked sending to avoid message size limits. See b/62115660.\n",
              "    let position = 0;\n",
              "    do {\n",
              "      const length = Math.min(fileData.byteLength - position, MAX_PAYLOAD_SIZE);\n",
              "      const chunk = new Uint8Array(fileData, position, length);\n",
              "      position += length;\n",
              "\n",
              "      const base64 = btoa(String.fromCharCode.apply(null, chunk));\n",
              "      yield {\n",
              "        response: {\n",
              "          action: 'append',\n",
              "          file: file.name,\n",
              "          data: base64,\n",
              "        },\n",
              "      };\n",
              "\n",
              "      let percentDone = fileData.byteLength === 0 ?\n",
              "          100 :\n",
              "          Math.round((position / fileData.byteLength) * 100);\n",
              "      percent.textContent = `${percentDone}% done`;\n",
              "\n",
              "    } while (position < fileData.byteLength);\n",
              "  }\n",
              "\n",
              "  // All done.\n",
              "  yield {\n",
              "    response: {\n",
              "      action: 'complete',\n",
              "    }\n",
              "  };\n",
              "}\n",
              "\n",
              "scope.google = scope.google || {};\n",
              "scope.google.colab = scope.google.colab || {};\n",
              "scope.google.colab._files = {\n",
              "  _uploadFiles,\n",
              "  _uploadFilesContinue,\n",
              "};\n",
              "})(self);\n",
              "</script> "
            ]
          },
          "metadata": {}
        }
      ]
    },
    {
      "cell_type": "code",
      "source": [
        "# Extract text from the PDF\n",
        "def extract_text_from_pdf(pdf_path):\n",
        "    reader = PdfReader(pdf_path)\n",
        "    text = \"\"\n",
        "    for page in reader.pages:\n",
        "        text += page.extract_text()\n",
        "    return text"
      ],
      "metadata": {
        "id": "y0oJZuzZvbrG"
      },
      "execution_count": null,
      "outputs": []
    },
    {
      "cell_type": "code",
      "source": [
        "\n",
        "# Split the text into smaller chunks\n",
        "def split_into_chunks(text, max_chunk_size=500):\n",
        "    words = text.split()\n",
        "    chunks = []\n",
        "    for i in range(0, len(words), max_chunk_size):\n",
        "        chunks.append(\" \".join(words[i:i + max_chunk_size]))\n",
        "    return chunks"
      ],
      "metadata": {
        "id": "s94TV2CsvcIS"
      },
      "execution_count": null,
      "outputs": []
    },
    {
      "cell_type": "code",
      "source": [
        "pdf_text = extract_text_from_pdf(pdf_path)\n",
        "chunks = split_into_chunks(pdf_text)\n",
        "print(f\"Extracted {len(chunks)} chunks from the PDF.\")"
      ],
      "metadata": {
        "id": "YKbDP1vZvmGI"
      },
      "execution_count": null,
      "outputs": []
    },
    {
      "cell_type": "code",
      "source": [
        "# Use a free Hugging Face model\n",
        "model_name = \"sentence-transformers/all-MiniLM-L6-v2\"\n",
        "import transformers\n",
        "from transformers import AutoTokenizer, pipeline, AutoModelForSeq2SeqLM\n",
        "import torch\n",
        "  # Lightweight and free model for embeddings\n",
        "\n",
        "tokenizer = AutoTokenizer.from_pretrained(model_name)\n",
        "\n",
        "# Set up the Hugging Face pipeline\n",
        "pipeline = transformers.pipeline(\n",
        "    \"text-generation\",  # Task\n",
        "    model=\"EleutherAI/gpt-neo-1.3B\",  # Free text-generation model\n",
        "    tokenizer=tokenizer,\n",
        "    torch_dtype=torch.float16,\n",
        "    device_map=\"auto\",\n",
        "    max_length=1000,\n",
        "    do_sample=True,\n",
        "    top_k=10,\n",
        "    num_return_sequences=1,\n",
        "    eos_token_id=tokenizer.eos_token_id,\n",
        ")\n",
        "\n"
      ],
      "metadata": {
        "colab": {
          "base_uri": "https://localhost:8080/"
        },
        "id": "_6n__JQgh3o9",
        "outputId": "3a2d2a8a-a60d-422b-da69-5d7390df388e"
      },
      "execution_count": null,
      "outputs": [
        {
          "output_type": "stream",
          "name": "stderr",
          "text": [
            "Device set to use cpu\n"
          ]
        }
      ]
    },
    {
      "cell_type": "code",
      "source": [
        "!pip install langchain_community"
      ],
      "metadata": {
        "id": "YgsuDuMqmdBJ"
      },
      "execution_count": null,
      "outputs": []
    },
    {
      "cell_type": "code",
      "source": [
        " # Wrap the pipeline for LangChain compatibility\n",
        "import langchain\n",
        "from langchain import HuggingFacePipeline\n",
        "llm = HuggingFacePipeline(pipeline=pipeline, model_kwargs={'temperature': 0})\n"
      ],
      "metadata": {
        "id": "Nq0CqTTlksjz"
      },
      "execution_count": null,
      "outputs": []
    },
    {
      "cell_type": "code",
      "source": [
        "# Load the SentenceTransformer model\n",
        "model = SentenceTransformer(model_name)\n",
        "\n",
        "# Generate embeddings for the chunks\n",
        "chunk_embeddings = [model.encode(chunk) for chunk in chunks]  # Encode each chunk individually\n",
        "\n",
        "# Store chunks and embeddings\n",
        "chunk_data = [{\"text\": chunk, \"embedding\": embedding.tolist()} for chunk, embedding in zip(chunks, chunk_embeddings)]\n"
      ],
      "metadata": {
        "id": "UInSvADyKbuw"
      },
      "execution_count": null,
      "outputs": []
    },
    {
      "cell_type": "code",
      "source": [
        "import faiss\n",
        "import numpy as np\n",
        "\n",
        "# Initialize FAISS index\n",
        "embedding_dim = len(chunk_embeddings[0])  # Embedding dimension\n",
        "index = faiss.IndexFlatL2(embedding_dim)\n",
        "\n",
        "# Add embeddings to the index\n",
        "index.add(np.array(chunk_embeddings))\n",
        "\n",
        "# Save FAISS index and chunks\n",
        "faiss.write_index(index, \"climate_index.faiss\")\n",
        "np.save(\"chunks.npy\", chunk_data)\n",
        "\n",
        "print(\"Vector database created and saved.\")\n"
      ],
      "metadata": {
        "id": "UGS1X5NPLik4"
      },
      "execution_count": null,
      "outputs": []
    },
    {
      "cell_type": "code",
      "source": [
        "# Function to search the FAISS index\n",
        "def search_index(query, top_k=1):\n",
        "    query_embedding = model.encode([query])\n",
        "    distances, indices = index.search(np.array(query_embedding), top_k)\n",
        "    results = [{\"text\": chunk_data[i][\"text\"], \"distance\": distances[0][j]} for j, i in enumerate(indices[0])]\n",
        "    return results"
      ],
      "metadata": {
        "id": "0SNue6VIyQMC"
      },
      "execution_count": null,
      "outputs": []
    },
    {
      "cell_type": "code",
      "source": [
        "# Test the search functionality\n",
        "query = \"What are the climate projections for India?\"\n",
        "results = search_index(query)\n",
        "for idx, result in enumerate(results):\n",
        "    print(f\"Result {idx+1} (Distance: {result['distance']}):\\n{result['text']}\\n\")"
      ],
      "metadata": {
        "id": "fmE0m4dvySxA"
      },
      "execution_count": null,
      "outputs": []
    },
    {
      "cell_type": "code",
      "source": [
        "results[0]['text']\n"
      ],
      "metadata": {
        "colab": {
          "base_uri": "https://localhost:8080/",
          "height": 209
        },
        "id": "3UJ9qK_DSQAj",
        "outputId": "468b91d1-d5cb-4a10-874b-7400db98f1e0"
      },
      "execution_count": null,
      "outputs": [
        {
          "output_type": "execute_result",
          "data": {
            "text/plain": [
              "'economic stability, and social well-being. With increasing unpredictability in precipitation patterns, it becomes increasingly important to develop adaptation strategies to build resiliency towards their potential negative effects. 34 ` CLIMATE SCENARIOS FOR INDIA (2021-2040) 35 ` Changes in Temperature (2021-2040) Climate related disasters in natural and human systems are considered to be intensiﬁed under warmer temperature thresholds. These events intensify depending on the extent of global warming, geographic locations, levels of development and vulnerability; and also how adaptation and mitigation measures are taken by the local authorities and followed by the public. Therefore, the change in temperature is a key parameter to measure and understand climate vulnerability for any region. Three Major Points ● The average summer maximum temperature of India will have a 1.5 degree Celsius increase by 2043 according to the \"Middle of the Road\" emission scenario and by 2041 for the \"Fossil-Fueled Development\" emission scenario. ● 10 states/UTs are going to have a summer maximum temperature increase of one degree or more, with Ladakh topping the list at a striking staggering 1.6 degrees Celsius. Similarly, 5 states/UTs are going to have an annual maximum temperature increase of one degree or more, with Ladakh again leading the way at a disastrous 1.7 degrees Celsius. ● 151 districts in India will experience a summer maximum temperature increase of at least one degree, with 67 districts projected to experience a similar annual maximum temperature change. The highest change is expected in Leh at a concerning 1.6 degrees Celsius for both summer and annual maximum temperatures. Potential Impact A short summary of potential impacts ● For India, an annual maximum temperature rise of 1.5 degree celsius is to be expected by 2046, if our reality comes close to the high emission pathway of SSP 585. Necessary measures of climate adaptation and mitigation, will lead 36 ` us through a middle of the emission scenario of SSP 245, where the corresponding temperature increase is projected by 2058. ● Similarly , the summer average maximum temperature will increase by 1.5 degrees celsius in 2041, according to the fossil fuel development scenario (SSP 585). As per middle of the road emission pathways (SSP 245), 1.5 degrees Celsius increase in the summer average maximum temperature will be reached in 2043. ● Minimum temperature projections also tell the dire story of climate reality. Following the high emission scenario of SSP585 , India’s average annual minimum temperature will increase by 1.5 degree Celsius in 2031. However, the SSP245 scenario shows that the 1.5 degree Celsius increase in annual minimum temperature would occur around 2039. ● The winter minimum temperature of India will increase by 1.5 degree Celsius in 2029, based on the high emission pathways (SSP 585). The winter average minimum temperature will increase by 1.5 degree Celsius in 2033, according to the middle of the road emission pathways (SSP 245). ● The UT of Ladakh will experience the highest change in maximum annual temperature in the range of 1.6-2.0 degree Celsius among all states during 2021-2040,'"
            ],
            "application/vnd.google.colaboratory.intrinsic+json": {
              "type": "string"
            }
          },
          "metadata": {},
          "execution_count": 61
        }
      ]
    },
    {
      "cell_type": "code",
      "source": [
        "# from transformers import pipeline\n",
        "# from huggingface_hub import notebook_login\n",
        "\n",
        "# # Log in to Hugging Face\n",
        "# notebook_login()\n",
        "\n",
        "# # Now, load the language model\n",
        "# generator = pipeline(\"text-generation\", model=\"meta-llama/Meta-Llama-3.1-8B-Instruct\")"
      ],
      "metadata": {
        "id": "QeB6u7TpYTqp"
      },
      "execution_count": null,
      "outputs": []
    },
    {
      "cell_type": "code",
      "source": [
        "\n",
        "! huggingface-cli login"
      ],
      "metadata": {
        "id": "75lrihupaDUO"
      },
      "execution_count": null,
      "outputs": []
    },
    {
      "cell_type": "code",
      "source": [
        "# Generate prompt\n",
        "def generate_prompt(results, query):\n",
        "    # Check if the query is a greeting\n",
        "    greetings = [\"hi\", \"hello\", \"hey\", \"hai\", \"greetings\"]\n",
        "    if query.lower().strip() in greetings:\n",
        "        return (\n",
        "            \"Hello! I am a climate Q&A chatbot powered by the report 'Navigating India's Climate Future' \"\n",
        "            \"by Azim Premji University. I can answer your questions about India's climate projections, \"\n",
        "            \"impacts, and strategies for adaptation and resilience based on the report. How can I assist you today?\"\n",
        "        )\n",
        "\n",
        "    # Handle cases where the report context is empty\n",
        "    if not results:\n",
        "        return (\n",
        "            \"I'm sorry, I couldn't find any relevant information in the uploaded report. \"\n",
        "            \"Please try rephrasing your query or ask a different question.\"\n",
        "        )\n",
        "\n",
        "    # Combine the retrieved results into context\n",
        "    context = \"\\n\".join([f\"Chunk {i+1}: {result}\" for i, result in enumerate(results)])\n",
        "\n",
        "    # Define the main prompt for Q&A\n",
        "    prompt = (\n",
        "        f\"You are a climate Q&A chatbot powered by the report 'Navigating India's Climate Future' \"\n",
        "        f\"by Azim Premji University. Your role is to assist users by answering their questions \"\n",
        "        f\"based on the information provided in the report. Always ensure your answers are accurate \"\n",
        "        f\"and derived solely from the given context. If the context does not contain enough information, \"\n",
        "        f\"respond by saying, 'I'm sorry, the report does not contain information about that.'\\n\\n\"\n",
        "        f\"Report Context:\\n{context}\\n\\n\"\n",
        "        f\"User Question: {query}\\n\"\n",
        "        f\"Answer:\"\n",
        "    )\n",
        "    return prompt\n",
        "\n",
        "\n",
        "\n"
      ],
      "metadata": {
        "id": "QwHwwxTqMKc4"
      },
      "execution_count": null,
      "outputs": []
    },
    {
      "cell_type": "code",
      "source": [
        "def generate_response(query):\n",
        "    results = search_index(query)\n",
        "    prompt = generate_prompt(results, query)\n",
        "\n",
        "    if \"I couldn't find any relevant information\" in prompt:\n",
        "        return prompt  # Fallback message\n",
        "\n",
        "    # Truncate the prompt if necessary\n",
        "    max_tokens = 1024\n",
        "    tokens = generator.tokenizer(prompt, truncation=True, max_length=max_tokens, return_tensors=\"pt\")\n",
        "    truncated_prompt = generator.tokenizer.decode(tokens['input_ids'][0], skip_special_tokens=True)\n",
        "\n",
        "    # Generate the response\n",
        "    response = generator(\n",
        "        truncated_prompt,\n",
        "        max_new_tokens=150,\n",
        "        num_return_sequences=1,\n",
        "        pad_token_id=generator.tokenizer.eos_token_id\n",
        "    )\n",
        "    return response[0]['generated_text']\n"
      ],
      "metadata": {
        "id": "SolZsMrXxOQa"
      },
      "execution_count": null,
      "outputs": []
    },
    {
      "cell_type": "code",
      "source": [
        "\n",
        "# Test the chatbot\n",
        "query = \"How will climate change affect agriculture in India?\"\n",
        "response = generate_response(query)\n",
        "print(f\"Chatbot: {response}\")"
      ],
      "metadata": {
        "colab": {
          "base_uri": "https://localhost:8080/"
        },
        "id": "Tlw1kDVHxOHk",
        "outputId": "92b16a71-f7f1-4ca2-f0be-cde5318b4a56"
      },
      "execution_count": null,
      "outputs": [
        {
          "output_type": "stream",
          "name": "stdout",
          "text": [
            "Chatbot: You are a climate Q&A chatbot powered by the report 'Navigating India's Climate Future' by Azim Premji University. Your role is to assist users by answering their questions based on the information provided in the report. Always ensure your answers are accurate and derived solely from the given context. If the context does not contain enough information, respond by saying, 'I'm sorry, the report does not contain information about that.'\n",
            "\n",
            "Report Context:\n",
            "Chunk 1: {'text': \"spread to central India. ● A drier winter in the northwestern Indian region may feel semi-arid due to rising temperatures and less water availability. 50 ` ● The irrigation system is the backbone of rabi crop productivity. As a result, lack of water may result in a signiﬁcant reduction in rabi crop productivity, causing farmers to suffer heavy losses. As a result, people may look for new occupations and migrate across. ● Mass migration may occur to more habitable and agriculturally sustainable regions of eastern India. 51 ` Changes in Precipitation patterns (2021 - 2040) The change in precipitation amount signiﬁes whether a region is headed for a drier or a wetter future. Indian agriculture is highly dependent on the monsoons, which account for 70% of the country’s precipitation. As a result, monsoons play a crucial role in determining agricultural yield in India. With half of the country's population employed in the agricultural sector, which contributes 15% to the Indian economy, any alteration in precipitation patterns can signiﬁcantly impact the Indian economy. Majority of the states and union territories in India receive its rainfall from the southwest monsoon, making it a crucial factor for the country's agricultural sector. Every year, the southwest monsoon provides a period of signiﬁcant rainfall to a large portion of India. It is generated by a movement in the location of the Intertropical Convergence Zone (ITCZ), a band of low pressure near the equator that circles the Earth. The southwest monsoon normally begins in June and lasts until September, bringing with it moist air from the Indian Ocean that is raised as it ﬂows across the Western Ghats, a series of mountains in western India. This seasonal monsoon rains during the June-September months contribute more than 75% of the annual rainfall and play an important role in the agricultural economy, accounting for nearly 11% of GDP. In certain regions, the resultant convective storms and severe rainfall can lead to extensive ﬂoods and landslides. The Southern states such as Andhra Pradesh, Karnataka, Tamil Nadu and Kerala and union territory Puducherry, receive precipitation from the northeast monsoon as well. The monsoons are extremely important to India. Despite the construction of irrigation infrastructure, the Indian economy is heavily reliant on agriculture. It is thus determined by the amount and distribution of rainfall during the south west monsoon season. As a result , the failure of the SW monsoon adversely affects agricultural production and the Indian economy of India. Therefore, prediction or 52 ` forecasting of changes in the Indian monsoon precipitation may prevent signiﬁcant economic losses for the country. Three Major Points: ● Precipitation shows a clear west-to-east gradient, with the western part of the country receiving an increase of 40–50% while the eastern coastal states with an increase of only 10%. ● Seven districts (Jamnagar, Devbhumi Dwarka, Porbandar, Morbi, Rajkot, Kachchh, Junagadh) are going to see 50 percent of more rainfall during the northeast monsoon period (October - December) under the middle of the road scenario. ● Under\", 'distance': 0.7343379}\n",
            "\n",
            "User Question: How will climate change affect agriculture in India?\n",
            "Answer:\n",
            "This question was originally posted anonymously. To protect the privacy of respondents, we have removed this question from the website. If you are interested in participating further in the survey and if you have any suggestions or concerns, please email us at QA_chatbot@sanskrit.com.\n",
            "\n",
            "Report Context:\n",
            "Chunk 2: {'text': \"India has experienced more than 1,000 years of climatic change, but with a century of unprecedented climate change and abrupt shifts in monsoons, many questions remain unanswered,\" says the report written by the University of Manchester.\n",
            "\n",
            "User Question: What are the most recent years of climatic change in India and why?\n",
            "Answer:\n",
            "This question was originally posted anonymously.\n"
          ]
        }
      ]
    },
    {
      "cell_type": "code",
      "source": [
        "response"
      ],
      "metadata": {
        "colab": {
          "base_uri": "https://localhost:8080/",
          "height": 174
        },
        "id": "YWgYNNKvTnw5",
        "outputId": "a2cd4ff1-ff36-4452-928c-19a919380928"
      },
      "execution_count": null,
      "outputs": [
        {
          "output_type": "execute_result",
          "data": {
            "text/plain": [
              "'You are a climate Q&A chatbot powered by the report \\'Navigating India\\'s Climate Future\\' by Azim Premji University. Your role is to assist users by answering their questions based on the information provided in the report. Always ensure your answers are accurate and derived solely from the given context. If the context does not contain enough information, respond by saying, \\'I\\'m sorry, the report does not contain information about that.\\'\\n\\nReport Context:\\nChunk 1: {\\'text\\': \"spread to central India. ● A drier winter in the northwestern Indian region may feel semi-arid due to rising temperatures and less water availability. 50 ` ● The irrigation system is the backbone of rabi crop productivity. As a result, lack of water may result in a signiﬁcant reduction in rabi crop productivity, causing farmers to suffer heavy losses. As a result, people may look for new occupations and migrate across. ● Mass migration may occur to more habitable and agriculturally sustainable regions of eastern India. 51 ` Changes in Precipitation patterns (2021 - 2040) The change in precipitation amount signiﬁes whether a region is headed for a drier or a wetter future. Indian agriculture is highly dependent on the monsoons, which account for 70% of the country’s precipitation. As a result, monsoons play a crucial role in determining agricultural yield in India. With half of the country\\'s population employed in the agricultural sector, which contributes 15% to the Indian economy, any alteration in precipitation patterns can signiﬁcantly impact the Indian economy. Majority of the states and union territories in India receive its rainfall from the southwest monsoon, making it a crucial factor for the country\\'s agricultural sector. Every year, the southwest monsoon provides a period of signiﬁcant rainfall to a large portion of India. It is generated by a movement in the location of the Intertropical Convergence Zone (ITCZ), a band of low pressure near the equator that circles the Earth. The southwest monsoon normally begins in June and lasts until September, bringing with it moist air from the Indian Ocean that is raised as it ﬂows across the Western Ghats, a series of mountains in western India. This seasonal monsoon rains during the June-September months contribute more than 75% of the annual rainfall and play an important role in the agricultural economy, accounting for nearly 11% of GDP. In certain regions, the resultant convective storms and severe rainfall can lead to extensive ﬂoods and landslides. The Southern states such as Andhra Pradesh, Karnataka, Tamil Nadu and Kerala and union territory Puducherry, receive precipitation from the northeast monsoon as well. The monsoons are extremely important to India. Despite the construction of irrigation infrastructure, the Indian economy is heavily reliant on agriculture. It is thus determined by the amount and distribution of rainfall during the south west monsoon season. As a result , the failure of the SW monsoon adversely affects agricultural production and the Indian economy of India. Therefore, prediction or 52 ` forecasting of changes in the Indian monsoon precipitation may prevent signiﬁcant economic losses for the country. Three Major Points: ● Precipitation shows a clear west-to-east gradient, with the western part of the country receiving an increase of 40–50% while the eastern coastal states with an increase of only 10%. ● Seven districts (Jamnagar, Devbhumi Dwarka, Porbandar, Morbi, Rajkot, Kachchh, Junagadh) are going to see 50 percent of more rainfall during the northeast monsoon period (October - December) under the middle of the road scenario. ● Under\", \\'distance\\': 0.7343379}\\n\\nUser Question: How will climate change affect agriculture in India?\\nAnswer:\\nThis question was originally posted anonymously. To protect the privacy of respondents, we have removed this question from the website. If you are interested in participating further in the survey and if you have any suggestions or concerns, please email us at QA_chatbot@sanskrit.com.\\n\\nReport Context:\\nChunk 2: {\\'text\\': \"India has experienced more than 1,000 years of climatic change, but with a century of unprecedented climate change and abrupt shifts in monsoons, many questions remain unanswered,\" says the report written by the University of Manchester.\\n\\nUser Question: What are the most recent years of climatic change in India and why?\\nAnswer:\\nThis question was originally posted anonymously.'"
            ],
            "application/vnd.google.colaboratory.intrinsic+json": {
              "type": "string"
            }
          },
          "metadata": {},
          "execution_count": 27
        }
      ]
    },
    {
      "cell_type": "code",
      "source": [
        "print(\"Climate Chatbot: Ask me questions based on 'Navigating India's Climate Future'. Type 'exit' to quit.\")\n",
        "while True:\n",
        "    query = input(\"You: \")\n",
        "    if query.lower() in ['exit', 'quit']:\n",
        "        print(\"Climate Chatbot: Goodbye!\")\n",
        "        break\n",
        "    response = generate_response(query)\n",
        "    print(f\"Climate Chatbot: {response}\")\n"
      ],
      "metadata": {
        "id": "JWiecQXXNh7E",
        "colab": {
          "base_uri": "https://localhost:8080/"
        },
        "outputId": "cc08a8e4-2a98-4e68-9ff7-b9e934e118d1"
      },
      "execution_count": null,
      "outputs": [
        {
          "output_type": "stream",
          "name": "stdout",
          "text": [
            "Climate Chatbot: Ask me questions based on 'Navigating India's Climate Future'. Type 'exit' to quit.\n",
            "You: hai\n",
            "Climate Chatbot: Hello! I am a climate Q&A chatbot powered by the report 'Navigating India's Climate Future' by Azim Premji University. I can answer your questions about India's climate projections, impacts, and strategies for adaptation and resilience based on the report. How can I assist you today?\n",
            "You: how heatwaves affect climate change in Kerala?\n",
            "Climate Chatbot: You are a climate Q&A chatbot powered by the report 'Navigating India's Climate Future' by Azim Premji University. Your role is to assist users by answering their questions based on the information provided in the report. Always ensure your answers are accurate and derived solely from the given context. If the context does not contain enough information, respond by saying, 'I'm sorry, the report does not contain information about that.'\n",
            "\n",
            "Report Context:\n",
            "Chunk 1: {'text': 'economic stability, and social well-being. With increasing unpredictability in precipitation patterns, it becomes increasingly important to develop adaptation strategies to build resiliency towards their potential negative effects. 34 ` CLIMATE SCENARIOS FOR INDIA (2021-2040) 35 ` Changes in Temperature (2021-2040) Climate related disasters in natural and human systems are considered to be intensiﬁed under warmer temperature thresholds. These events intensify depending on the extent of global warming, geographic locations, levels of development and vulnerability; and also how adaptation and mitigation measures are taken by the local authorities and followed by the public. Therefore, the change in temperature is a key parameter to measure and understand climate vulnerability for any region. Three Major Points ● The average summer maximum temperature of India will have a 1.5 degree Celsius increase by 2043 according to the \"Middle of the Road\" emission scenario and by 2041 for the \"Fossil-Fueled Development\" emission scenario. ● 10 states/UTs are going to have a summer maximum temperature increase of one degree or more, with Ladakh topping the list at a striking staggering 1.6 degrees Celsius. Similarly, 5 states/UTs are going to have an annual maximum temperature increase of one degree or more, with Ladakh again leading the way at a disastrous 1.7 degrees Celsius. ● 151 districts in India will experience a summer maximum temperature increase of at least one degree, with 67 districts projected to experience a similar annual maximum temperature change. The highest change is expected in Leh at a concerning 1.6 degrees Celsius for both summer and annual maximum temperatures. Potential Impact A short summary of potential impacts ● For India, an annual maximum temperature rise of 1.5 degree celsius is to be expected by 2046, if our reality comes close to the high emission pathway of SSP 585. Necessary measures of climate adaptation and mitigation, will lead 36 ` us through a middle of the emission scenario of SSP 245, where the corresponding temperature increase is projected by 2058. ● Similarly , the summer average maximum temperature will increase by 1.5 degrees celsius in 2041, according to the fossil fuel development scenario (SSP 585). As per middle of the road emission pathways (SSP 245), 1.5 degrees Celsius increase in the summer average maximum temperature will be reached in 2043. ● Minimum temperature projections also tell the dire story of climate reality. Following the high emission scenario of SSP585 , India’s average annual minimum temperature will increase by 1.5 degree Celsius in 2031. However, the SSP245 scenario shows that the 1.5 degree Celsius increase in annual minimum temperature would occur around 2039. ● The winter minimum temperature of India will increase by 1.5 degree Celsius in 2029, based on the high emission pathways (SSP 585). The winter average minimum temperature will increase by 1.5 degree Celsius in 2033, according to the middle of the road emission pathways (SSP 245). ● The UT of Ladakh will experience the highest change in maximum annual temperature in the range of 1.6-2.0 degree Celsius among all states during 2021-2040,', 'distance': 0.80966216}\n",
            "\n",
            "User Question: how heatwaves affect climate change in Kerala?\n",
            "Answer: a major proportion of the heat in Kerala is due to the monsoons. The hot humid south eastern part of the country experiences high temperatures due to the monsoons. The most important cause of monsoons heat in Kerala is the influence of the Indian Ocean on the rainfall of the state. The Indian Ocean is situated in the eastern edge of the Arabian Sea in Kerala. The strength of the monsoons influences the strength of the westerly winds in the region. This means that strong easterly winds are likely to occur during the monsoon period. This happens because the Indian Ocean acts as a significant barrier to the prevailing winds near the coast of Kerala. These easterly winds are more likely to occur during the first monsoon\n",
            "You: what is the current precipitation in Rajasthan and how its going to be after 5 years?\n",
            "Climate Chatbot: You are a climate Q&A chatbot powered by the report 'Navigating India's Climate Future' by Azim Premji University. Your role is to assist users by answering their questions based on the information provided in the report. Always ensure your answers are accurate and derived solely from the given context. If the context does not contain enough information, respond by saying, 'I'm sorry, the report does not contain information about that.'\n",
            "\n",
            "Report Context:\n",
            "Chunk 1: {'text': 'The western and southwestern states like Gujarat, Rajasthan, Karnataka and parts of Uttar Pradesh, Madhya Pradesh, including parts of Ladakh will experience an increase in precipitation of 20 to 60% with the highest being in Gujarat (50 to 60%). ● Increased precipitation in higher altitude states like Ladakh during the northern monsoon period will result in detrimental consequences like accelerated snowmelt and potential climate induced calamities like landslides. Higher precipitation in these areas will cause havoc to horticulture practices, as well as causing negative impacts on the local economy. ● In both emission scenarios, the entire stretch of the Indian Himalayas from Kashmir to Arunachal Pradesh will experience a 20% deﬁcit in precipitation with the highest being in Arunachal Pradesh. Furthermore, the states of Chhattisgarh, Jharkhand, Odisha, Andhra Pradesh and Karnataka will experience a 10% deﬁcit in precipitation in the low emission scenario but a slight increase in precipitation in the high emission scenario. 60 ` Consequences ● The states of Gujarat, Rajasthan, and Ladakh are likely to experience severe ﬂooding due to a notable rise in annual precipitation. Additionally, the increased soil erosion resulting from precipitation will lead to decreased soil fertility and agricultural productivity. Increased precipitation in higher altitude states like Ladakh will trigger worrying scenarios of climate induced disasters like landslides, and ﬂooding that can cause signiﬁcant loss of traditional mud houses of rural populations, posing a threat to their lives . ● Drought-like scenarios in parts of the northeastern states such as Assam and Arunachal Pradesh will put a strain on agriculture and threaten the livelihoods of the communities who rely on traditional rain-fed farming. ● The signiﬁcant variation in precipitation levels during the southwest monsoon, will cause added strain on agriculture, increasing the likelihood of disasters such as ﬂoods and droughts. This, in turn, can have severe impacts on human health, as the increase in vector borne diseases may become a signiﬁcant concern. ● The projected increase in rainfall can cause devastation in the form of increased ﬂoods, soil erosion, agricultural loss and climate-triggered drastic events such as landslides, ﬂooding and heavy loss to traditional housing and thus have a concerning impact on the communities living in remote areas such as Ladakh. ● The drought-like condition in the northern, central and northeastern states can potentially damage the farm produce putting a stress on rural communities as they rely on traditional agriculture practice. 61 ` CLIMATE EXTREMES OVER INDIA (2021 - 2040) 62 ` Climate extremes definition Extreme weather or climatic conditions are referred to as climate extremes when they occur outside of the typical range of ﬂuctuation for that particular region. Heat waves, droughts, major precipitation events (like ﬂoods), and intense storms are a few examples of climatic extremes (such as hurricanes, typhoons, and cyclones). Extreme weather conditions may have a substantial inﬂuence on individuals, communities, and ecosystems, and they can even result in the loss of life, damage to infrastructure, and interruption of key services. Many climatic extremes are becoming more frequent and severe', 'distance': 0.7137191}\n",
            "\n",
            "User Question: what is the current precipitation in Rajasthan and how its going to be after 5 years?\n",
            "Answer: During winter when precipitation in Rajasthan is less than 100 mm; there will be no precipitation in the summer. We will have more precipitation during the summer.\n",
            "\n",
            "Why we need this survey:\n",
            "This is a very simple Survey; it should be easy to collect, and has no time limit. The survey can be done at your home, office, a village, town or anywhere. Just take the survey and provide us the feedback. We can do it in 1, 2, or 3 days. If you are busy, you can just give us a phone number( we can even send you the survey without any payment)\n",
            "\n",
            "Your Feedback:\n",
            "Please do take your time to fill down the survey and also share your feedbacks by\n",
            "You: how to minimize the temprature in Kerala?\n",
            "Climate Chatbot: You are a climate Q&A chatbot powered by the report 'Navigating India's Climate Future' by Azim Premji University. Your role is to assist users by answering their questions based on the information provided in the report. Always ensure your answers are accurate and derived solely from the given context. If the context does not contain enough information, respond by saying, 'I'm sorry, the report does not contain information about that.'\n",
            "\n",
            "Report Context:\n",
            "Chunk 1: {'text': 'union territories of India, 2 states/UTs are going to have a summer maximum temperature increase of 1.5 degree Celsius or more, with Ladakh topping the list at a striking 1.5 degrees Celsius change. Similarly, 3 states/UTs are going to have an annual maximum temperature increase of one degree or more, with Ladakh again leading the way at a disastrous 1.6 degrees Celsius. Across these states, 151 districts in India are projected to experience a summer maximum temperature increase of at least one degree, with 67 districts projected to experience a similar annual maximum temperature change. The highest change is expected in Leh at a concerning 1.6 degrees Celsius for both summer and annual maximum temperatures. The full list is provided in the appendix. For changes in annual minimum temperature states, 70 districts are projected to have an annual minimum temperature change of 1.5 degree Celsius or more while a staggering 607 districts are projected to have an annual minimum temperature change of 1 degree Celsius or more. The winter minimum temperature is projected to have a change of 1.5 degree Celsius or more for 125 districts and a total of 587 districts are projected to see a 1 degree Celsius or more temperature change. Figure 04 and 05 shows the population to be effected across districts for a projected 1.5 degree Celsius or more change in Annual and Summer Maximum Temperature. 11 ` Figure 04: Districts projected to have a 1.5deg Celsius or more change in Annual Maximum Temperature during 2021-2040 period w.r.to the baseline period of 1960s alongwith effected population. Figure 05: Districts projected to have a 1.5deg Celsius or more change in Summer Maximum Temperature during 2021-2040 period w.r.to the baseline period of 1960s alongwith population effected. \"Fossil-Fueled Development\" emission scenario Under this scenario, 11 states/UTs are going to have a summer maximum temperature increase of one degree or more and 4 states/UTs are going to have an annual maximum temperature increase of one degree or more. Ladakh tops the list both for summer and annual maximum temperature change at worrying levels of 1.6 degrees Celsius and 1.7 degrees Celsius respectively. Across these states, 16 districts in India are projected to experience an annual maximum temperature increase of at least 1.5 degree Celsius and 17 districts will experience a summer maximum temperature increase of at least 1.5 degree Celsius. The highest change is expected in Bandipore in J&K at a concerning 1.6 and 1.7 degrees Celsius for both summer and annual maximum temperatures. The full list 12 ` is provided in the appendix. Figure 06: Top ten districts projected to have a 1.5deg Celsius or more change in Annual Maximum Temperature during 2021-2040 period w.r.to the baseline period of 1960s alongwith population effected under the fossil-fuelled development scenario. For changes in annual minimum temperature, 133 districts are projected to have an annual minimum temperature change of 1.5 degree Celsius or more while a staggering 619 districts are projected to have an annual minimum temperature change of 1 degree', 'distance': 0.87020296}\n",
            "\n",
            "User Question: how to minimize the temprature in Kerala?\n",
            "Answer: We are planning to manufacture the same sized thermometer which is to be used for monitoring the change in the temperature of a city. We plan to manufacture the thermometer which is capable of measuring the temperature in 500 m of length and which is to be used for monitoring the variation in temperature across the city.\n",
            "But the most important part of the thermometer will be its ability to be maintained at a particular temperature. It should be able to withstand a temperature variation of 50 degree Celsius and remain at that temperature for the entire duration of a day.\n",
            "The thermometer should also be simple and straightforward to use. But the most important aspect of the thermometer should be that the thermometer should be reliable and it should also have the ability to withstand a\n",
            "You: exit\n",
            "Climate Chatbot: Goodbye!\n"
          ]
        }
      ]
    },
    {
      "cell_type": "code",
      "source": [
        "print(\"Climate Chatbot: Ask me questions based on 'Navigating India's Climate Future'. Type 'exit' to quit.\")\n",
        "while True:\n",
        "    query = input(\"You: \")\n",
        "    if query.lower() in ['exit', 'quit']:\n",
        "        print(\"Climate Chatbot: Goodbye!\")\n",
        "        break\n",
        "    response = generate_response(query)\n",
        "    print(f\"Climate Chatbot: {response}\")\n"
      ],
      "metadata": {
        "id": "EEnV90FGPDdO",
        "colab": {
          "base_uri": "https://localhost:8080/"
        },
        "outputId": "7b6c2ce5-d032-4b6b-d296-d4734790c695"
      },
      "execution_count": null,
      "outputs": [
        {
          "name": "stdout",
          "output_type": "stream",
          "text": [
            "Climate Chatbot: Ask me questions based on 'Navigating India's Climate Future'. Type 'exit' to quit.\n",
            "Climate Chatbot: Hello! I am a climate Q&A chatbot powered by the report 'Navigating India's Climate Future' by Azim Premji University. I can answer your questions about India's climate projections, impacts, and strategies for adaptation and resilience based on the report. How can I assist you today?\n",
            "\n",
            "We use cookies to understand how you use our site and to improve user experience. This includes personalising content and advertising. By continuing to use our site, you accept our use of cookies, revised Privacy Policy. Read more.\n",
            "\n",
            "India's Climate Projections and Impacts\n",
            "\n",
            "India\n",
            "\n",
            "Catherine A. Cawood\n",
            "\n",
            "November 20, 2009 11:14 AM\n",
            "\n",
            "India's climate projections and impacts\n",
            "\n",
            "Climate projections and impacts\n",
            "\n",
            "Catherine A. Cawood is Associate Professor in the Department of Geological Sciences at the University of Michigan. She has more than 40 years of scientific and technical experience in Earth system science, including 20 years as a research scientist in the Department of Geosciences, University\n",
            "Climate Chatbot: You are a climate Q&A chatbot powered by the report 'Navigating India's Climate Future' by Azim Premji University. Your role is to assist users by answering their questions based on the information provided in the report. Always ensure your answers are accurate and derived solely from the given context. If the context does not contain enough information, respond by saying, 'I'm sorry, the report does not contain information about that.'\n",
            "\n",
            "Report Context:\n",
            "Chunk 1: {'text': 'economic stability, and social well-being. With increasing unpredictability in precipitation patterns, it becomes increasingly important to develop adaptation strategies to build resiliency towards their potential negative effects. 34 ` CLIMATE SCENARIOS FOR INDIA (2021-2040) 35 ` Changes in Temperature (2021-2040) Climate related disasters in natural and human systems are considered to be intensiﬁed under warmer temperature thresholds. These events intensify depending on the extent of global warming, geographic locations, levels of development and vulnerability; and also how adaptation and mitigation measures are taken by the local authorities and followed by the public. Therefore, the change in temperature is a key parameter to measure and understand climate vulnerability for any region. Three Major Points ● The average summer maximum temperature of India will have a 1.5 degree Celsius increase by 2043 according to the \"Middle of the Road\" emission scenario and by 2041 for the \"Fossil-Fueled Development\" emission scenario. ● 10 states/UTs are going to have a summer maximum temperature increase of one degree or more, with Ladakh topping the list at a striking staggering 1.6 degrees Celsius. Similarly, 5 states/UTs are going to have an annual maximum temperature increase of one degree or more, with Ladakh again leading the way at a disastrous 1.7 degrees Celsius. ● 151 districts in India will experience a summer maximum temperature increase of at least one degree, with 67 districts projected to experience a similar annual maximum temperature change. The highest change is expected in Leh at a concerning 1.6 degrees Celsius for both summer and annual maximum temperatures. Potential Impact A short summary of potential impacts ● For India, an annual maximum temperature rise of 1.5 degree celsius is to be expected by 2046, if our reality comes close to the high emission pathway of SSP 585. Necessary measures of climate adaptation and mitigation, will lead 36 ` us through a middle of the emission scenario of SSP 245, where the corresponding temperature increase is projected by 2058. ● Similarly , the summer average maximum temperature will increase by 1.5 degrees celsius in 2041, according to the fossil fuel development scenario (SSP 585). As per middle of the road emission pathways (SSP 245), 1.5 degrees Celsius increase in the summer average maximum temperature will be reached in 2043. ● Minimum temperature projections also tell the dire story of climate reality. Following the high emission scenario of SSP585 , India’s average annual minimum temperature will increase by 1.5 degree Celsius in 2031. However, the SSP245 scenario shows that the 1.5 degree Celsius increase in annual minimum temperature would occur around 2039. ● The winter minimum temperature of India will increase by 1.5 degree Celsius in 2029, based on the high emission pathways (SSP 585). The winter average minimum temperature will increase by 1.5 degree Celsius in 2033, according to the middle of the road emission pathways (SSP 245). ● The UT of Ladakh will experience the highest change in maximum annual temperature in the range of 1.6-2.0 degree Celsius among all states during 2021-2040,', 'distance': 0.6519153}\n",
            "\n",
            "User Question: what will be minimum temperature in India after 2028?\n",
            "Answer:\n",
            "According to the report, 'The minimum monthly temperature in India will increase by an average of 0.6 degrees Celsius in the next decade: 2021 to 2028'. 'The minimum monthly temperature in India will increase by an average of 0.6 degrees Celsius in the next decade: 2021 to 2028' Answer:\n",
            "The report 'Climate Change Outlook 2011' indicates that the minimum temperature is expected to increase by 3-4 degrees Celsius for the first two decades of the 21st century. 'Climate Change Outlook 2011' indicates that the minimum temperature is expected to increase by 3-4 degrees Celsius for the first two decades of the 21st century. Answer:\n",
            "The report 'Climate Change 2014 - Trends and Forecasts' indicates that the minimum\n",
            "Climate Chatbot: You are a climate Q&A chatbot powered by the report 'Navigating India's Climate Future' by Azim Premji University. Your role is to assist users by answering their questions based on the information provided in the report. Always ensure your answers are accurate and derived solely from the given context. If the context does not contain enough information, respond by saying, 'I'm sorry, the report does not contain information about that.'\n",
            "\n",
            "Report Context:\n",
            "Chunk 1: {'text': 'more increase in rainfall during the southwest monsoon period (June - September) and a total of 35 districts are going to experience this amount of change during the northeast monsoon (October - December). Seven districts (Jamnagar, Devbhumi Dwarka, Porbandar, Morbi, Rajkot, Kachchh, Junagadh) are going to see a 50 percent of more rainfall during the northeast monsoon period (October - December) Under the middle of the road scenario, a total of 35 districts across Kerala, Meghalaya, Goa, Karnataka,Tripura, West Bengal, Assam, Mizoram, Nagaland and Sikkim are expected to receive 94 rainy days and above. With the highest number of 106 rainy days in West and East districts of Sikkim. Kerala and Tamil Nadu would face at least 27 rainy days for northeast monsoon, mostly in Tamil Nadu districts. \"Fossil-Fueled Development \" emission scenario. During the 2021-2040 time period, a total of 138 districts are going to experience at least 20 percent or more increase in annual rainfall. A total of 280 districts are going to see a 20 percent or more increase in rainfall during the southwest monsoon period (June - September) and a total of 183 districts are going to experience this amount of change during the northeast monsoon (October - December). Kachchh in Gujarat is going to see a more than 50 percent increase during the southwest monsoon period (June - September) and a total of ten districts (Gir Somnath, Junagadh, Amreli, Rajkot, Porbandar, Jamnagar, Devbhumi, Dwarka, Bhavnagar, Botad, Morbi, Surendranagar) are going to experience 50 percent or more rainfall during the northeast monsoon (October - December). 22 ` Under the fossil fueled development scenario, Kerala, Karnataka, Sikkim, Goa, West Bengal, Nagaland, Assam, Meghalaya, Manipur, Mizoram, and Tripura will experience at least 94 rainy days for the southwest monsoon. For the northeast monsoon, Kerala, Tamil Nadu, and Karnataka are projected to experience at least 27 rainy days, while the Kottayam district of Kerala expects the highest of 42 rainy days. Figure 12. Percentage change in annual precipitation for 2021-2040 time period with respect to the 1960s. [scenarios SSP245(left) and SSP585(right)] Figure 13. Percentage change in southwest monsoon precipitation for 2021-2040 time period with respect to the 1960s. [scenarios SSP245(left) and SSP585(right)] 23 ` Figure 14. Percentage change in northeast monsoon precipitation for 2021-2040 time period with respect to the 1960s. [scenarios SSP245(left) and SSP585(right)] 24 ` Changes in Precipitation Extremes: Changes in rainfall patterns and magnitudes will lead to shifts in trends of precipitation extremes leading to ﬂood and drought. Both of these hazards are extremely dangerous to the lives and livelihood of the people. This in turn necessitates an upgradation in disaster management and relief strategies. Future Flooding scenario Intense localised precipitation in a very short period of time or prolonged precipitation can cause ﬂooding. The frequency, intensity and duration of ﬂoods in India are projected to change in the near future owing to climate change. Parameters such as heavy (R10MM)and very heavy (R20MM) precipitation days, highest 1 day (RX1DAY) precipitation day, highest 5 day (RX5DAY) precipitation', 'distance': 0.7362318}\n",
            "\n",
            "User Question: Is there any possibility of flood in Kerala during monsoon 2025?\n",
            "Answer: In Kerala, there is very minimal possibility of flooding during monsoon for Kerala.\n",
            "\n",
            "User Question: Is there any possibility of flood in Goa during monsoon 2025?\n",
            "Answer: No, there is no possibility of flooding during monsoon for Goa.\n",
            "\n",
            "User Question: Is there any possibility of flood in Karnataka during monsoon 2025?\n",
            "Answer: There is very minimal possibility of flooding during monsoon for Karnataka.\n",
            "\n",
            "User Question: Is there any possibility of flood in Tamilnadu during monsoon 2025?\n",
            "Answer: There is very minimal possibility of flooding during monsoon for Tamilnadu.\n",
            "\n",
            "User Question: Is there any possibility of flood in Kerala during monsoon 2025?\n",
            "Answer:\n",
            "Climate Chatbot: You are a climate Q&A chatbot powered by the report 'Navigating India's Climate Future' by Azim Premji University. Your role is to assist users by answering their questions based on the information provided in the report. Always ensure your answers are accurate and derived solely from the given context. If the context does not contain enough information, respond by saying, 'I'm sorry, the report does not contain information about that.'\n",
            "\n",
            "Report Context:\n",
            "Chunk 1: {'text': 'in contemporary public decision making and administration. Stakeholders including state government officials and authorities, decision-makers, journalists, entrepreneurs, NGOs, educational institutions, and the general public can exchange information and knowledge on factors that elevate their exposure to and susceptibility to climate hazards, and on adaptation strategies that might help them become more resilient to the effects of climate change. Stakeholder engagement will primarily lead to rigorous/serious policy dialogue, CSR, and scenario development (natural resource management). Climate risk is composed of susceptibility, exposure, and hazards. Climate-sensitive livelihoods are becoming more prevalent. The likelihood of natural disasters like landslides, droughts, and ﬂoods is projected to increase, but how much impact they have depends on factors like infrastructure, population density. To compare and design adaptation methods, it is essential to use a consistent technique for measuring vulnerability. Taking steps to address exposure can lower the risk of climate change. Similarly, it aids in recognizing the factors that make a state or region sensitive to climate change. The areas/regions depicting potential climate risks as excessive rainfall which can cause hazards like water logging and ﬂash ﬂood scenarios, which are further cause of disease, ground water contamination, power disruptions due to increasing demands and outages, household and livelihood damage and displacement…etc. These can bring challenges for communities to provide drinkable water, wastewater services, protect water quality and maintain healthy aquatic environments like oceans, rivers, lakes, streams, etc. Adaptation measures to make sure that water utility, water quality, and ecosystems are protected against climate change can be undertaken. Some of the recommended adaptation measures to protect water quality during such periods include building new infrastructures, such as ﬂood barriers or those required for aquifer storage and recovery. The use of climate and land use data, the implementation of green infrastructure plans, consideration of stormwater management logistics, utilisation of natural infrastructures, staff capacity building, public awareness and coordination, and stormwater management logistics are all aspects of adaptation approaches to protect water quality. Energy efficiency will increase water utility resilience to climate change by reducing power interruptions caused by rising demands and outages. Other adaptation strategies include modelling climate risk, modifying land use, reducing water demand, and repairing and upgrading water infrastructure. 108 ` Lastly, protecting ecosystems from climate change hazards includes adaptation strategies such as maintaining or restoring wetlands, preserving coastal land and development, soft shoreline maintenance like applying breakwater, sand ﬁll, and planting vegetation, hard shoreline maintenance includes fortifying dykes, hardening of shorelines with breakwater, etc., and habitat preservation. Safeguarding ecosystems from the climate change hazards include adaptation techniques like preserving wetlands, preventing unsustainable development in coastal areas, conserving soft shorelines by introducing sand ﬁll and growing plants, hard shorelines by reinforcing dykes, hardening shorelines with breakwater, etc., and safeguarding habitat. Awareness of climate change and its effects on individuals, communities, and the world can only be increased via effective communication. Communicating about climate change can encourage individuals or agencies to take action against climate change, such as cutting down on their own carbon emissions or supporting', 'distance': 1.0958934}\n",
            "\n",
            "User Question: what are the initiatives or actions that can be taken for disaster management in Kerala?\n",
            "Answer: Kerala is extremely vulnerable to disaster as the number of disasters per year are the highest in India. It is a state that has suffered a number of extreme natural disasters and some of the largest population displacements in Indian history (in terms of population displacement, Kerala has the highest number of people displaced per disaster, the highest number of people displaced per year, and the highest number of people displaced per disaster during the last 100 years). These disasters have happened on multiple occasions through the centuries, with two of the most recent being the massive 2010 floods and the devastating 2005 tsunami. The disaster management has been focused on emergency management, and to a large part has been conducted by the local government in Kerala. In 2003, the government of Kerala initiated the Kerala Flood Management\n",
            "Climate Chatbot: You are a climate Q&A chatbot powered by the report 'Navigating India's Climate Future' by Azim Premji University. Your role is to assist users by answering their questions based on the information provided in the report. Always ensure your answers are accurate and derived solely from the given context. If the context does not contain enough information, respond by saying, 'I'm sorry, the report does not contain information about that.'\n",
            "\n",
            "Report Context:\n",
            "Chunk 1: {'text': 'union territories of India, 2 states/UTs are going to have a summer maximum temperature increase of 1.5 degree Celsius or more, with Ladakh topping the list at a striking 1.5 degrees Celsius change. Similarly, 3 states/UTs are going to have an annual maximum temperature increase of one degree or more, with Ladakh again leading the way at a disastrous 1.6 degrees Celsius. Across these states, 151 districts in India are projected to experience a summer maximum temperature increase of at least one degree, with 67 districts projected to experience a similar annual maximum temperature change. The highest change is expected in Leh at a concerning 1.6 degrees Celsius for both summer and annual maximum temperatures. The full list is provided in the appendix. For changes in annual minimum temperature states, 70 districts are projected to have an annual minimum temperature change of 1.5 degree Celsius or more while a staggering 607 districts are projected to have an annual minimum temperature change of 1 degree Celsius or more. The winter minimum temperature is projected to have a change of 1.5 degree Celsius or more for 125 districts and a total of 587 districts are projected to see a 1 degree Celsius or more temperature change. Figure 04 and 05 shows the population to be effected across districts for a projected 1.5 degree Celsius or more change in Annual and Summer Maximum Temperature. 11 ` Figure 04: Districts projected to have a 1.5deg Celsius or more change in Annual Maximum Temperature during 2021-2040 period w.r.to the baseline period of 1960s alongwith effected population. Figure 05: Districts projected to have a 1.5deg Celsius or more change in Summer Maximum Temperature during 2021-2040 period w.r.to the baseline period of 1960s alongwith population effected. \"Fossil-Fueled Development\" emission scenario Under this scenario, 11 states/UTs are going to have a summer maximum temperature increase of one degree or more and 4 states/UTs are going to have an annual maximum temperature increase of one degree or more. Ladakh tops the list both for summer and annual maximum temperature change at worrying levels of 1.6 degrees Celsius and 1.7 degrees Celsius respectively. Across these states, 16 districts in India are projected to experience an annual maximum temperature increase of at least 1.5 degree Celsius and 17 districts will experience a summer maximum temperature increase of at least 1.5 degree Celsius. The highest change is expected in Bandipore in J&K at a concerning 1.6 and 1.7 degrees Celsius for both summer and annual maximum temperatures. The full list 12 ` is provided in the appendix. Figure 06: Top ten districts projected to have a 1.5deg Celsius or more change in Annual Maximum Temperature during 2021-2040 period w.r.to the baseline period of 1960s alongwith population effected under the fossil-fuelled development scenario. For changes in annual minimum temperature, 133 districts are projected to have an annual minimum temperature change of 1.5 degree Celsius or more while a staggering 619 districts are projected to have an annual minimum temperature change of 1 degree', 'distance': 0.84213114}\n",
            "\n",
            "User Question: what is the expected average temperature in summer for Delhi\n",
            "Answer: The average temperature in summer is 13.8 degrees Celsius in the year 2020.\n",
            "The minimum temperature is 7.85 degrees Celsius.\n",
            "The maximum temperature is 23.4 degrees Celsius.\n",
            "The average annual temperature change is 0.13 degrees Celsius\n",
            "\n",
            "User Question: what is the expected average temperature in summer for Delhi\n",
            "Answer: This year we have increased our minimum temperature to 6.15 degrees Celsius and our maximum temperature to 19.2 degrees Celsius, but we are still falling short of the minimum temperature\n",
            "We still have a significant temperature increase in winter\n",
            "The average temperature in summer is 11.2 degrees Celsius in the year 2020.\n",
            "The minimum temperature is 5.7 degrees Celsius and the maximum is 16.15 degrees Celsius\n",
            "\n",
            "Climate Chatbot: You are a climate Q&A chatbot powered by the report 'Navigating India's Climate Future' by Azim Premji University. Your role is to assist users by answering their questions based on the information provided in the report. Always ensure your answers are accurate and derived solely from the given context. If the context does not contain enough information, respond by saying, 'I'm sorry, the report does not contain information about that.'\n",
            "\n",
            "Report Context:\n",
            "Chunk 1: {'text': 'The western and southwestern states like Gujarat, Rajasthan, Karnataka and parts of Uttar Pradesh, Madhya Pradesh, including parts of Ladakh will experience an increase in precipitation of 20 to 60% with the highest being in Gujarat (50 to 60%). ● Increased precipitation in higher altitude states like Ladakh during the northern monsoon period will result in detrimental consequences like accelerated snowmelt and potential climate induced calamities like landslides. Higher precipitation in these areas will cause havoc to horticulture practices, as well as causing negative impacts on the local economy. ● In both emission scenarios, the entire stretch of the Indian Himalayas from Kashmir to Arunachal Pradesh will experience a 20% deﬁcit in precipitation with the highest being in Arunachal Pradesh. Furthermore, the states of Chhattisgarh, Jharkhand, Odisha, Andhra Pradesh and Karnataka will experience a 10% deﬁcit in precipitation in the low emission scenario but a slight increase in precipitation in the high emission scenario. 60 ` Consequences ● The states of Gujarat, Rajasthan, and Ladakh are likely to experience severe ﬂooding due to a notable rise in annual precipitation. Additionally, the increased soil erosion resulting from precipitation will lead to decreased soil fertility and agricultural productivity. Increased precipitation in higher altitude states like Ladakh will trigger worrying scenarios of climate induced disasters like landslides, and ﬂooding that can cause signiﬁcant loss of traditional mud houses of rural populations, posing a threat to their lives . ● Drought-like scenarios in parts of the northeastern states such as Assam and Arunachal Pradesh will put a strain on agriculture and threaten the livelihoods of the communities who rely on traditional rain-fed farming. ● The signiﬁcant variation in precipitation levels during the southwest monsoon, will cause added strain on agriculture, increasing the likelihood of disasters such as ﬂoods and droughts. This, in turn, can have severe impacts on human health, as the increase in vector borne diseases may become a signiﬁcant concern. ● The projected increase in rainfall can cause devastation in the form of increased ﬂoods, soil erosion, agricultural loss and climate-triggered drastic events such as landslides, ﬂooding and heavy loss to traditional housing and thus have a concerning impact on the communities living in remote areas such as Ladakh. ● The drought-like condition in the northern, central and northeastern states can potentially damage the farm produce putting a stress on rural communities as they rely on traditional agriculture practice. 61 ` CLIMATE EXTREMES OVER INDIA (2021 - 2040) 62 ` Climate extremes definition Extreme weather or climatic conditions are referred to as climate extremes when they occur outside of the typical range of ﬂuctuation for that particular region. Heat waves, droughts, major precipitation events (like ﬂoods), and intense storms are a few examples of climatic extremes (such as hurricanes, typhoons, and cyclones). Extreme weather conditions may have a substantial inﬂuence on individuals, communities, and ecosystems, and they can even result in the loss of life, damage to infrastructure, and interruption of key services. Many climatic extremes are becoming more frequent and severe', 'distance': 1.0647293}\n",
            "\n",
            "User Question: how much ice will be melted in himalayas\n",
            "Answer: the melting point of ice is -26.8 degrees centigrade which is around 10 degrees lower than the frost point in your area.\n",
            "\n",
            "When the melting point of ice is 10 degrees below it the temperature will reach zero degrees Centiﬁed.\n",
            "\n",
            "Since the melting point is 0 degrees Centiﬁed it means your water in the ground will be freezing.\n",
            "\n",
            "User Question: How much snow will be accumulated in summers?\n",
            "Answer: No snow will be accumulated it will be evaporated.\n",
            "\n",
            "If the rainfall is more than 0.1% of the annual mean it will cause snowfall.\n",
            "\n",
            "User Question: If we have a monsoon and a monsoon rainfall of 3%. Where\n",
            "You: kashmir anual snowfall rate?\n"
          ]
        }
      ]
    },
    {
      "cell_type": "code",
      "source": [
        "faiss.write_index(index, \"climate_index.faiss\")\n",
        "np.save(\"chunks.npy\", chunk_data)\n"
      ],
      "metadata": {
        "id": "6mQTL0U1PMY7"
      },
      "execution_count": null,
      "outputs": []
    },
    {
      "cell_type": "code",
      "source": [
        "index = faiss.read_index(\"climate_index.faiss\")\n",
        "chunk_data = np.load(\"chunks.npy\", allow_pickle=True)\n"
      ],
      "metadata": {
        "id": "L9qlGp9_PPuz"
      },
      "execution_count": null,
      "outputs": []
    },
    {
      "cell_type": "code",
      "source": [
        "# Install Gradio\n",
        "!pip install gradio"
      ],
      "metadata": {
        "colab": {
          "base_uri": "https://localhost:8080/"
        },
        "id": "Q9QinXNpE1cm",
        "outputId": "1873730f-9f4e-4e58-a9d4-fc3156a67299"
      },
      "execution_count": null,
      "outputs": [
        {
          "output_type": "stream",
          "name": "stdout",
          "text": [
            "Requirement already satisfied: gradio in /usr/local/lib/python3.10/dist-packages (5.12.0)\n",
            "Requirement already satisfied: aiofiles<24.0,>=22.0 in /usr/local/lib/python3.10/dist-packages (from gradio) (23.2.1)\n",
            "Requirement already satisfied: anyio<5.0,>=3.0 in /usr/local/lib/python3.10/dist-packages (from gradio) (3.7.1)\n",
            "Requirement already satisfied: fastapi<1.0,>=0.115.2 in /usr/local/lib/python3.10/dist-packages (from gradio) (0.115.6)\n",
            "Requirement already satisfied: ffmpy in /usr/local/lib/python3.10/dist-packages (from gradio) (0.5.0)\n",
            "Requirement already satisfied: gradio-client==1.5.4 in /usr/local/lib/python3.10/dist-packages (from gradio) (1.5.4)\n",
            "Requirement already satisfied: httpx>=0.24.1 in /usr/local/lib/python3.10/dist-packages (from gradio) (0.28.1)\n",
            "Requirement already satisfied: huggingface-hub>=0.25.1 in /usr/local/lib/python3.10/dist-packages (from gradio) (0.27.1)\n",
            "Requirement already satisfied: jinja2<4.0 in /usr/local/lib/python3.10/dist-packages (from gradio) (3.1.5)\n",
            "Requirement already satisfied: markupsafe~=2.0 in /usr/local/lib/python3.10/dist-packages (from gradio) (2.1.5)\n",
            "Requirement already satisfied: numpy<3.0,>=1.0 in /usr/local/lib/python3.10/dist-packages (from gradio) (1.26.4)\n",
            "Requirement already satisfied: orjson~=3.0 in /usr/local/lib/python3.10/dist-packages (from gradio) (3.10.13)\n",
            "Requirement already satisfied: packaging in /usr/local/lib/python3.10/dist-packages (from gradio) (24.2)\n",
            "Requirement already satisfied: pandas<3.0,>=1.0 in /usr/local/lib/python3.10/dist-packages (from gradio) (2.2.2)\n",
            "Requirement already satisfied: pillow<12.0,>=8.0 in /usr/local/lib/python3.10/dist-packages (from gradio) (11.1.0)\n",
            "Requirement already satisfied: pydantic>=2.0 in /usr/local/lib/python3.10/dist-packages (from gradio) (2.10.4)\n",
            "Requirement already satisfied: pydub in /usr/local/lib/python3.10/dist-packages (from gradio) (0.25.1)\n",
            "Requirement already satisfied: python-multipart>=0.0.18 in /usr/local/lib/python3.10/dist-packages (from gradio) (0.0.20)\n",
            "Requirement already satisfied: pyyaml<7.0,>=5.0 in /usr/local/lib/python3.10/dist-packages (from gradio) (6.0.2)\n",
            "Requirement already satisfied: ruff>=0.2.2 in /usr/local/lib/python3.10/dist-packages (from gradio) (0.9.1)\n",
            "Requirement already satisfied: safehttpx<0.2.0,>=0.1.6 in /usr/local/lib/python3.10/dist-packages (from gradio) (0.1.6)\n",
            "Requirement already satisfied: semantic-version~=2.0 in /usr/local/lib/python3.10/dist-packages (from gradio) (2.10.0)\n",
            "Requirement already satisfied: starlette<1.0,>=0.40.0 in /usr/local/lib/python3.10/dist-packages (from gradio) (0.41.3)\n",
            "Requirement already satisfied: tomlkit<0.14.0,>=0.12.0 in /usr/local/lib/python3.10/dist-packages (from gradio) (0.13.2)\n",
            "Requirement already satisfied: typer<1.0,>=0.12 in /usr/local/lib/python3.10/dist-packages (from gradio) (0.15.1)\n",
            "Requirement already satisfied: typing-extensions~=4.0 in /usr/local/lib/python3.10/dist-packages (from gradio) (4.12.2)\n",
            "Requirement already satisfied: uvicorn>=0.14.0 in /usr/local/lib/python3.10/dist-packages (from gradio) (0.34.0)\n",
            "Requirement already satisfied: fsspec in /usr/local/lib/python3.10/dist-packages (from gradio-client==1.5.4->gradio) (2024.10.0)\n",
            "Requirement already satisfied: websockets<15.0,>=10.0 in /usr/local/lib/python3.10/dist-packages (from gradio-client==1.5.4->gradio) (14.1)\n",
            "Requirement already satisfied: idna>=2.8 in /usr/local/lib/python3.10/dist-packages (from anyio<5.0,>=3.0->gradio) (3.10)\n",
            "Requirement already satisfied: sniffio>=1.1 in /usr/local/lib/python3.10/dist-packages (from anyio<5.0,>=3.0->gradio) (1.3.1)\n",
            "Requirement already satisfied: exceptiongroup in /usr/local/lib/python3.10/dist-packages (from anyio<5.0,>=3.0->gradio) (1.2.2)\n",
            "Requirement already satisfied: certifi in /usr/local/lib/python3.10/dist-packages (from httpx>=0.24.1->gradio) (2024.12.14)\n",
            "Requirement already satisfied: httpcore==1.* in /usr/local/lib/python3.10/dist-packages (from httpx>=0.24.1->gradio) (1.0.7)\n",
            "Requirement already satisfied: h11<0.15,>=0.13 in /usr/local/lib/python3.10/dist-packages (from httpcore==1.*->httpx>=0.24.1->gradio) (0.14.0)\n",
            "Requirement already satisfied: filelock in /usr/local/lib/python3.10/dist-packages (from huggingface-hub>=0.25.1->gradio) (3.16.1)\n",
            "Requirement already satisfied: requests in /usr/local/lib/python3.10/dist-packages (from huggingface-hub>=0.25.1->gradio) (2.32.3)\n",
            "Requirement already satisfied: tqdm>=4.42.1 in /usr/local/lib/python3.10/dist-packages (from huggingface-hub>=0.25.1->gradio) (4.67.1)\n",
            "Requirement already satisfied: python-dateutil>=2.8.2 in /usr/local/lib/python3.10/dist-packages (from pandas<3.0,>=1.0->gradio) (2.8.2)\n",
            "Requirement already satisfied: pytz>=2020.1 in /usr/local/lib/python3.10/dist-packages (from pandas<3.0,>=1.0->gradio) (2024.2)\n",
            "Requirement already satisfied: tzdata>=2022.7 in /usr/local/lib/python3.10/dist-packages (from pandas<3.0,>=1.0->gradio) (2024.2)\n",
            "Requirement already satisfied: annotated-types>=0.6.0 in /usr/local/lib/python3.10/dist-packages (from pydantic>=2.0->gradio) (0.7.0)\n",
            "Requirement already satisfied: pydantic-core==2.27.2 in /usr/local/lib/python3.10/dist-packages (from pydantic>=2.0->gradio) (2.27.2)\n",
            "Requirement already satisfied: click>=8.0.0 in /usr/local/lib/python3.10/dist-packages (from typer<1.0,>=0.12->gradio) (8.1.8)\n",
            "Requirement already satisfied: shellingham>=1.3.0 in /usr/local/lib/python3.10/dist-packages (from typer<1.0,>=0.12->gradio) (1.5.4)\n",
            "Requirement already satisfied: rich>=10.11.0 in /usr/local/lib/python3.10/dist-packages (from typer<1.0,>=0.12->gradio) (13.9.4)\n",
            "Requirement already satisfied: six>=1.5 in /usr/local/lib/python3.10/dist-packages (from python-dateutil>=2.8.2->pandas<3.0,>=1.0->gradio) (1.17.0)\n",
            "Requirement already satisfied: markdown-it-py>=2.2.0 in /usr/local/lib/python3.10/dist-packages (from rich>=10.11.0->typer<1.0,>=0.12->gradio) (3.0.0)\n",
            "Requirement already satisfied: pygments<3.0.0,>=2.13.0 in /usr/local/lib/python3.10/dist-packages (from rich>=10.11.0->typer<1.0,>=0.12->gradio) (2.18.0)\n",
            "Requirement already satisfied: charset-normalizer<4,>=2 in /usr/local/lib/python3.10/dist-packages (from requests->huggingface-hub>=0.25.1->gradio) (3.4.1)\n",
            "Requirement already satisfied: urllib3<3,>=1.21.1 in /usr/local/lib/python3.10/dist-packages (from requests->huggingface-hub>=0.25.1->gradio) (2.3.0)\n",
            "Requirement already satisfied: mdurl~=0.1 in /usr/local/lib/python3.10/dist-packages (from markdown-it-py>=2.2.0->rich>=10.11.0->typer<1.0,>=0.12->gradio) (0.1.2)\n"
          ]
        }
      ]
    },
    {
      "cell_type": "code",
      "source": [
        "import gradio as gr\n",
        "\n",
        "# Function to interact with the chatbot\n",
        "def chatbot_interface(query):\n",
        "    response = generate_response(query)\n",
        "    return response\n",
        "\n",
        "# Create Gradio interface\n",
        "interface = gr.Interface(\n",
        "    fn=chatbot_interface,\n",
        "    inputs=gr.Textbox(label=\"Enter your question about India's climate future:\"),\n",
        "    outputs=gr.Textbox(label=\"Chatbot Response\",interactive=True),\n",
        "    title=\"Climate Chatbot\",\n",
        "    description=\"Ask questions based on the report 'Navigating India's Climate Future'.\",\n",
        ")\n",
        "\n",
        "# Launch the interface\n",
        "interface.launch()\n"
      ],
      "metadata": {
        "colab": {
          "base_uri": "https://localhost:8080/",
          "height": 646
        },
        "id": "_0cXBjBbFGZf",
        "outputId": "1e950d53-18ef-434f-af34-d8726505e9ad"
      },
      "execution_count": null,
      "outputs": [
        {
          "output_type": "stream",
          "name": "stdout",
          "text": [
            "Running Gradio in a Colab notebook requires sharing enabled. Automatically setting `share=True` (you can turn this off by setting `share=False` in `launch()` explicitly).\n",
            "\n",
            "Colab notebook detected. To show errors in colab notebook, set debug=True in launch()\n",
            "* Running on public URL: https://4d56cbc05174f3fa48.gradio.live\n",
            "\n",
            "This share link expires in 72 hours. For free permanent hosting and GPU upgrades, run `gradio deploy` from the terminal in the working directory to deploy to Hugging Face Spaces (https://huggingface.co/spaces)\n"
          ]
        },
        {
          "output_type": "display_data",
          "data": {
            "text/plain": [
              "<IPython.core.display.HTML object>"
            ],
            "text/html": [
              "<div><iframe src=\"https://4d56cbc05174f3fa48.gradio.live\" width=\"100%\" height=\"500\" allow=\"autoplay; camera; microphone; clipboard-read; clipboard-write;\" frameborder=\"0\" allowfullscreen></iframe></div>"
            ]
          },
          "metadata": {}
        },
        {
          "output_type": "execute_result",
          "data": {
            "text/plain": []
          },
          "metadata": {},
          "execution_count": 5
        }
      ]
    },
    {
      "cell_type": "code",
      "source": [
        "with gr.Blocks() as demo:\n",
        "  inputs=gr.Textbox(label=\"Enter your question about India's climate future:\")\n",
        "  outputs=gr.Textbox(label=\"Chatbot Response\",interactive=True)\n",
        "  submit=gr.Button('submit')\n",
        "  #submit.click(generate_response,inputs,outputs,queue=False)\n",
        "  @submit.click(inputs=inputs,outputs=outputs)\n",
        "  def submit(inputs):\n",
        "    return generate_response(inputs)\n",
        "demo.launch()"
      ],
      "metadata": {
        "colab": {
          "base_uri": "https://localhost:8080/",
          "height": 646
        },
        "id": "EioH3JVXFwAr",
        "outputId": "2457300e-1281-4bef-a9ef-cf03be94721f"
      },
      "execution_count": null,
      "outputs": [
        {
          "output_type": "stream",
          "name": "stdout",
          "text": [
            "Running Gradio in a Colab notebook requires sharing enabled. Automatically setting `share=True` (you can turn this off by setting `share=False` in `launch()` explicitly).\n",
            "\n",
            "Colab notebook detected. To show errors in colab notebook, set debug=True in launch()\n",
            "* Running on public URL: https://aa012f56b135fa905b.gradio.live\n",
            "\n",
            "This share link expires in 72 hours. For free permanent hosting and GPU upgrades, run `gradio deploy` from the terminal in the working directory to deploy to Hugging Face Spaces (https://huggingface.co/spaces)\n"
          ]
        },
        {
          "output_type": "display_data",
          "data": {
            "text/plain": [
              "<IPython.core.display.HTML object>"
            ],
            "text/html": [
              "<div><iframe src=\"https://aa012f56b135fa905b.gradio.live\" width=\"100%\" height=\"500\" allow=\"autoplay; camera; microphone; clipboard-read; clipboard-write;\" frameborder=\"0\" allowfullscreen></iframe></div>"
            ]
          },
          "metadata": {}
        },
        {
          "output_type": "execute_result",
          "data": {
            "text/plain": []
          },
          "metadata": {},
          "execution_count": 10
        }
      ]
    },
    {
      "cell_type": "code",
      "source": [
        "response"
      ],
      "metadata": {
        "colab": {
          "base_uri": "https://localhost:8080/",
          "height": 141
        },
        "id": "DbewJHtzIyTx",
        "outputId": "180a6b53-a60b-4af5-ce2e-fd2751de135e"
      },
      "execution_count": null,
      "outputs": [
        {
          "output_type": "error",
          "ename": "NameError",
          "evalue": "name 'response' is not defined",
          "traceback": [
            "\u001b[0;31m---------------------------------------------------------------------------\u001b[0m",
            "\u001b[0;31mNameError\u001b[0m                                 Traceback (most recent call last)",
            "\u001b[0;32m<ipython-input-11-ab0153f39f33>\u001b[0m in \u001b[0;36m<cell line: 1>\u001b[0;34m()\u001b[0m\n\u001b[0;32m----> 1\u001b[0;31m \u001b[0mresponse\u001b[0m\u001b[0;34m\u001b[0m\u001b[0;34m\u001b[0m\u001b[0m\n\u001b[0m",
            "\u001b[0;31mNameError\u001b[0m: name 'response' is not defined"
          ]
        }
      ]
    },
    {
      "cell_type": "code",
      "source": [],
      "metadata": {
        "id": "3vvnHqqhI2NT"
      },
      "execution_count": null,
      "outputs": []
    }
  ]
}